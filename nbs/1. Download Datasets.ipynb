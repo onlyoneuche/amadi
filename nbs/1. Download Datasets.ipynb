{
 "cells": [
  {
   "cell_type": "code",
   "execution_count": 12,
   "id": "9e1bff41",
   "metadata": {},
   "outputs": [],
   "source": [
    "import pathlib\n",
    "BASE_DIR = pathlib.Path().resolve().parent\n",
    "DATASET_DIR = BASE_DIR / 'datasets'\n",
    "ZIPS_DIR = DATASET_DIR / 'zips'\n",
    "ZIPS_DIR.mkdir(exist_ok=True, parents=True)\n",
    "\n",
    "SMS_SPAM_ZIP_PATH = ZIPS_DIR / 'sms-spam-dataset.zip'\n",
    "YOUTUBE_SPAM_ZIP_PATH = ZIPS_DIR / 'youtube-spam-dataset.zip'"
   ]
  },
  {
   "cell_type": "code",
   "execution_count": 13,
   "id": "ef6f86a0",
   "metadata": {},
   "outputs": [],
   "source": [
    "SMS_SPAM_ZIP = \"https://archive.ics.uci.edu/ml/machine-learning-databases/00228/smsspamcollection.zip\"\n",
    "YOUTUBE_SPAM_ZIP = \"https://archive.ics.uci.edu/ml/machine-learning-databases/00380/YouTube-Spam-Collection-v1.zip\""
   ]
  },
  {
   "cell_type": "code",
   "execution_count": 14,
   "id": "ea543a98",
   "metadata": {},
   "outputs": [
    {
     "name": "stdout",
     "output_type": "stream",
     "text": [
      "  % Total    % Received % Xferd  Average Speed   Time    Time     Time  Current\n",
      "                                 Dload  Upload   Total   Spent    Left  Speed\n",
      "100  198k  100  198k    0     0  88298      0  0:00:02  0:00:02 --:--:-- 89060\n",
      "  % Total    % Received % Xferd  Average Speed   Time    Time     Time  Current\n",
      "                                 Dload  Upload   Total   Spent    Left  Speed\n",
      "100  159k  100  159k    0     0  86136      0  0:00:01  0:00:01 --:--:-- 86865\n"
     ]
    }
   ],
   "source": [
    "!curl $SMS_SPAM_ZIP -o $SMS_SPAM_ZIP_PATH\n",
    "!curl $YOUTUBE_SPAM_ZIP -o $YOUTUBE_SPAM_ZIP_PATH"
   ]
  },
  {
   "cell_type": "code",
   "execution_count": 15,
   "id": "76a5113a",
   "metadata": {},
   "outputs": [],
   "source": [
    "SPAM_CLASSIFIER_DIR = DATASET_DIR / \"spam-classifier\"\n",
    "SMS_SPAM_DIR = SPAM_CLASSIFIER_DIR / \"sms-spam\"\n",
    "YOUTUBE_SPAM_DIR = SPAM_CLASSIFIER_DIR / \"youtube-spam\"\n",
    "\n",
    "SMS_SPAM_DIR.mkdir(exist_ok=True, parents=True)\n",
    "YOUTUBE_SPAM_DIR.mkdir(exist_ok=True, parents=True)"
   ]
  },
  {
   "cell_type": "code",
   "execution_count": 17,
   "id": "1f10f0f8",
   "metadata": {},
   "outputs": [
    {
     "name": "stdout",
     "output_type": "stream",
     "text": [
      "Archive:  /Users/darlington/Desktop/ddddd/amadioha/datasets/zips/sms-spam-dataset.zip\n",
      "  inflating: /Users/darlington/Desktop/ddddd/amadioha/datasets/spam-classifier/sms-spam/SMSSpamCollection  \n",
      "  inflating: /Users/darlington/Desktop/ddddd/amadioha/datasets/spam-classifier/sms-spam/readme  \n",
      "Archive:  /Users/darlington/Desktop/ddddd/amadioha/datasets/zips/sms-spam-dataset.zip\n",
      "  inflating: /Users/darlington/Desktop/ddddd/amadioha/datasets/spam-classifier/sms-spam/SMSSpamCollection  \n",
      "  inflating: /Users/darlington/Desktop/ddddd/amadioha/datasets/spam-classifier/sms-spam/readme  \n"
     ]
    }
   ],
   "source": [
    "!unzip -o $SMS_SPAM_ZIP_PATH -d $SMS_SPAM_DIR\n",
    "!unzip -o $YOUTUBE_SPAM_ZIP_PATH -d $YOUTUBE_SPAM_DIR"
   ]
  },
  {
   "cell_type": "code",
   "execution_count": null,
   "id": "75282282",
   "metadata": {},
   "outputs": [],
   "source": []
  }
 ],
 "metadata": {
  "kernelspec": {
   "display_name": "Python 3",
   "language": "python",
   "name": "python3"
  },
  "language_info": {
   "codemirror_mode": {
    "name": "ipython",
    "version": 3
   },
   "file_extension": ".py",
   "mimetype": "text/x-python",
   "name": "python",
   "nbconvert_exporter": "python",
   "pygments_lexer": "ipython3",
   "version": "3.9.1"
  }
 },
 "nbformat": 4,
 "nbformat_minor": 5
}
